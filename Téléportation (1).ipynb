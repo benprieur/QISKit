{
 "cells": [
  {
   "cell_type": "code",
   "execution_count": 2,
   "metadata": {},
   "outputs": [
    {
     "name": "stdout",
     "output_type": "stream",
     "text": [
      "         ┌───┐┌───┐ ░            ░      ┌───┐┌─┐         ░              \n",
      "q1_0: |0>┤ Z ├┤ H ├─░────────────░───■──┤ H ├┤M├──────■──░──────────────\n",
      "         └───┘└───┘ ░ ┌───┐      ░ ┌─┴─┐└┬─┬┘└╥┘      │  ░              \n",
      "q1_1: |0>───────────░─┤ H ├──■───░─┤ X ├─┤M├──╫───■───┼──░──────────────\n",
      "                    ░ └───┘┌─┴─┐ ░ └───┘ └╥┘  ║ ┌─┴─┐ │  ░ ┌───┐┌───┐┌─┐\n",
      "q1_2: |0>───────────░──────┤ X ├─░────────╫───╫─┤ X ├─■──░─┤ H ├┤ Z ├┤M├\n",
      "                    ░      └───┘ ░        ║   ║ └───┘    ░ └───┘└───┘└╥┘\n",
      " c1_0: 0 ═════════════════════════════════╬═══╩═══════════════════════╬═\n",
      "                                          ║                           ║ \n",
      " c1_1: 0 ═════════════════════════════════╩═══════════════════════════╬═\n",
      "                                                                      ║ \n",
      " c1_2: 0 ═════════════════════════════════════════════════════════════╩═\n",
      "                                                                        \n",
      "{'001': 257, '011': 247, '010': 264, '000': 256}\n"
     ]
    },
    {
     "data": {
      "image/png": "[encoded data removed]",
      "text/plain": [
       "<Figure size 504x360 with 1 Axes>"
      ]
     },
     "execution_count": 2,
     "metadata": {},
     "output_type": "execute_result"
    }
   ],
   "source": [
    "%matplotlib inline\n",
    "\n",
    "# make the imports that are necessary for our work\n",
    "import qiskit as qk\n",
    "\n",
    "from qiskit import(\n",
    "  ClassicalRegister,\n",
    "  QuantumCircuit,\n",
    "  QuantumRegister,  \n",
    "  QuantumCircuit,\n",
    "  execute,\n",
    "  Aer)\n",
    "\n",
    "#from qiskit import ClassicalRegister, QuantumRegister, QuantumCircuit\n",
    "#from qiskit import execute, Aer\n",
    "from qiskit import IBMQ\n",
    "from qiskit.tools.visualization import plot_histogram\n",
    "\n",
    "def apply_secret_unitary(secret_unitary, qubit, quantum_circuit, dagger):\n",
    "    functionmap = {\n",
    "                    'x':quantum_circuit.x,\n",
    "                    'y':quantum_circuit.y,\n",
    "                    'z':quantum_circuit.z,\n",
    "                    'h':quantum_circuit.h,                    \n",
    "                    't':quantum_circuit.t,                    \n",
    "    }\n",
    "    if dagger: functionmap['t'] = quantum_circuit.tdg\n",
    "    \n",
    "    if dagger:\n",
    "        [functionmap[unitary](qubit) for unitary in secret_unitary]\n",
    "    else:\n",
    "        [functionmap[unitary](qubit) for unitary in secret_unitary[::-1]]\n",
    "        \n",
    "# Les porte appliquées au bit quantique secret à transmettre        \n",
    "secret_unitary = 'hz'        \n",
    "        \n",
    "# Create the quantum circuit\n",
    "q = QuantumRegister(3)\n",
    "c = ClassicalRegister(3)\n",
    "qc = QuantumCircuit(q, c)\n",
    "\n",
    "# Apply the secret unitary that we are using to generate the state to teleport. You can change it to any unitary\n",
    "apply_secret_unitary(secret_unitary, q[0], qc, dagger = 0)\n",
    "qc.barrier()\n",
    "# Next, generate the entangled pair between Alice and Bob (Remember: Hadamard followed by CX generates a Bell pair)\n",
    "qc.h(q[1])\n",
    "qc.cx(q[1], q[2])\n",
    "qc.barrier()\n",
    "# Next, apply the teleportation protocol. \n",
    "qc.cx(q[0], q[1])\n",
    "qc.h(q[0])\n",
    "qc.measure(q[0], c[0])\n",
    "qc.measure(q[1], c[1])\n",
    "qc.cx(q[1], q[2])\n",
    "qc.cz(q[0], q[2])\n",
    "qc.barrier()\n",
    "\n",
    "'''\n",
    "In principle, if the teleportation protocol worked, we have q[2] = secret_unitary|0>\n",
    "As a result, we should be able to recover q[2] = |0> by applying the reverse of secret_unitary\n",
    "since for a unitary u, u^dagger u = I.\n",
    "'''\n",
    "apply_secret_unitary(secret_unitary, q[2], qc, dagger=1)\n",
    "qc.measure(q[2], c[2])        \n",
    "\n",
    "# Draw the circuit\n",
    "qc.draw()\n",
    "print(qc)\n",
    "qc.draw(output='mpl', filename='circuit.png')\n",
    "\n",
    "backend = Aer.get_backend('qasm_simulator')\n",
    "job_sim = execute(qc, backend, shots=1024)\n",
    "sim_result = job_sim.result()\n",
    "\n",
    "measurement_result = sim_result.get_counts(qc)\n",
    "print(measurement_result)\n",
    "plot_histogram(measurement_result)"
   ]
  },
  {
   "cell_type": "code",
   "execution_count": null,
   "metadata": {},
   "outputs": [],
   "source": []
  }
 ],
 "metadata": {
  "kernelspec": {
   "display_name": "Python 3",
   "language": "python",
   "name": "python3"
  },
  "language_info": {
   "codemirror_mode": {
    "name": "ipython",
    "version": 3
   },
   "file_extension": ".py",
   "mimetype": "text/x-python",
   "name": "python",
   "nbconvert_exporter": "python",
   "pygments_lexer": "ipython3",
   "version": "3.7.3"
  }
 },
 "nbformat": 4,
 "nbformat_minor": 2
}
